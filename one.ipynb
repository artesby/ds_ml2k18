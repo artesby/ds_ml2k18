{
  "nbformat": 4,
  "nbformat_minor": 0,
  "metadata": {
    "colab": {
      "name": "semeion.ipynb",
      "version": "0.3.2",
      "provenance": [],
      "collapsed_sections": []
    },
    "kernelspec": {
      "name": "python3",
      "display_name": "Python 3"
    }
  },
  "cells": [
    {
      "metadata": {
        "id": "whgkNgJBUxkd",
        "colab_type": "code",
        "colab": {}
      },
      "cell_type": "code",
      "source": [
        "import pandas as pd\n",
        "import numpy as np\n",
        "from sklearn.model_selection import train_test_split, GridSearchCV\n",
        "from sklearn.neighbors import KNeighborsClassifier\n",
        "import sklearn.metrics as metrics\n",
        "import matplotlib.pyplot as plt\n"
      ],
      "execution_count": 0,
      "outputs": []
    },
    {
      "metadata": {
        "id": "YvCmYAqfU1VN",
        "colab_type": "code",
        "colab": {}
      },
      "cell_type": "code",
      "source": [
        "data = pd.read_csv(\"https://archive.ics.uci.edu/ml/machine-learning-databases/semeion/semeion.data\", header=None, sep=' ')\n",
        "features = data[list(range(256))]\n",
        "target = data[list(range(256, 266))].apply(lambda row: row.idxmax() % 256, axis=1)"
      ],
      "execution_count": 0,
      "outputs": []
    },
    {
      "metadata": {
        "id": "Jxnt5H9MKvx4",
        "colab_type": "code",
        "outputId": "743a85bd-88ea-46d0-8b9e-88f7d072b1e9",
        "colab": {
          "base_uri": "https://localhost:8080/",
          "height": 212
        }
      },
      "cell_type": "code",
      "source": [
        "target.value_counts()"
      ],
      "execution_count": 0,
      "outputs": [
        {
          "output_type": "execute_result",
          "data": {
            "text/plain": [
              "1    162\n",
              "6    161\n",
              "4    161\n",
              "0    161\n",
              "5    159\n",
              "3    159\n",
              "2    159\n",
              "9    158\n",
              "7    158\n",
              "8    155\n",
              "dtype: int64"
            ]
          },
          "metadata": {
            "tags": []
          },
          "execution_count": 5
        }
      ]
    },
    {
      "metadata": {
        "id": "GNgNar6GuuFM",
        "colab_type": "code",
        "outputId": "0d5aa52f-9999-4b33-9c90-8d9f09a268c4",
        "colab": {
          "base_uri": "https://localhost:8080/",
          "height": 364
        }
      },
      "cell_type": "code",
      "source": [
        "i = np.random.randint(0, len(features), 1)\n",
        "print(target.loc[i].values[0])\n",
        "plt.imshow(features.loc[i].values.reshape(16, 16), cmap='gray')\n",
        "plt.show()"
      ],
      "execution_count": 0,
      "outputs": [
        {
          "output_type": "stream",
          "text": [
            "9\n"
          ],
          "name": "stdout"
        },
        {
          "output_type": "display_data",
          "data": {
            "image/png": "[encoded data removed]",
            "text/plain": [
              "<matplotlib.figure.Figure at 0x7f78028fe320>"
            ]
          },
          "metadata": {
            "tags": []
          }
        }
      ]
    },
    {
      "metadata": {
        "id": "bTG3jg6iXOCx",
        "colab_type": "code",
        "colab": {}
      },
      "cell_type": "code",
      "source": [
        "X_train, X_test, y_train, y_test = train_test_split(features.values, target.values, test_size=.25, random_state=17, stratify=target.values)"
      ],
      "execution_count": 0,
      "outputs": []
    },
    {
      "metadata": {
        "id": "OwCWs3OCbWVD",
        "colab_type": "code",
        "outputId": "4fb5a60b-d1ad-4961-afc8-2793fc6dc53e",
        "colab": {
          "base_uri": "https://localhost:8080/",
          "height": 52
        }
      },
      "cell_type": "code",
      "source": [
        "%%time\n",
        "clf = KNeighborsClassifier()\n",
        "clf.fit(X_train, y_train)\n",
        "y_pred = clf.predict(X_test)"
      ],
      "execution_count": 0,
      "outputs": [
        {
          "output_type": "stream",
          "text": [
            "CPU times: user 279 ms, sys: 3.43 ms, total: 282 ms\n",
            "Wall time: 289 ms\n"
          ],
          "name": "stdout"
        }
      ]
    },
    {
      "metadata": {
        "id": "rq5tjjIDbulL",
        "colab_type": "code",
        "outputId": "8b115c86-27f0-4980-a84b-348657d95d63",
        "colab": {
          "base_uri": "https://localhost:8080/",
          "height": 35
        }
      },
      "cell_type": "code",
      "source": [
        "metrics.accuracy_score(y_test, y_pred), \\\n",
        "metrics.accuracy_score(clf.predict(X_train), y_train), "
      ],
      "execution_count": 0,
      "outputs": [
        {
          "output_type": "execute_result",
          "data": {
            "text/plain": [
              "(0.9172932330827067, 0.9288107202680067)"
            ]
          },
          "metadata": {
            "tags": []
          },
          "execution_count": 10
        }
      ]
    },
    {
      "metadata": {
        "id": "1PrQbeOzcPCx",
        "colab_type": "code",
        "outputId": "6e0b198b-4c48-4d96-dc93-cd1e9d755d76",
        "colab": {
          "base_uri": "https://localhost:8080/",
          "height": 319
        }
      },
      "cell_type": "code",
      "source": [
        "print(metrics.classification_report(y_test, y_pred))"
      ],
      "execution_count": 0,
      "outputs": [
        {
          "output_type": "stream",
          "text": [
            "              precision    recall  f1-score   support\n",
            "\n",
            "           0       0.98      1.00      0.99        40\n",
            "           1       0.78      0.98      0.87        41\n",
            "           2       0.89      1.00      0.94        40\n",
            "           3       0.93      0.93      0.93        40\n",
            "           4       0.90      0.95      0.93        40\n",
            "           5       0.87      0.97      0.92        40\n",
            "           6       0.97      0.95      0.96        40\n",
            "           7       1.00      0.82      0.90        40\n",
            "           8       1.00      0.77      0.87        39\n",
            "           9       0.94      0.79      0.86        39\n",
            "\n",
            "   micro avg       0.92      0.92      0.92       399\n",
            "   macro avg       0.93      0.92      0.92       399\n",
            "weighted avg       0.93      0.92      0.92       399\n",
            "\n"
          ],
          "name": "stdout"
        }
      ]
    },
    {
      "metadata": {
        "id": "ENOLO0dne5Y-",
        "colab_type": "code",
        "colab": {}
      },
      "cell_type": "code",
      "source": [
        "param_grid = {\n",
        "    \"n_neighbors\": range(5, 50, 5),\n",
        "    \"metric\": [\"euclidean\", \"manhattan\", \"cosine\"],\n",
        "    \"weights\": [\"uniform\", \"distance\"]\n",
        "}"
      ],
      "execution_count": 0,
      "outputs": []
    },
    {
      "metadata": {
        "id": "bvS1xKoacJtL",
        "colab_type": "code",
        "outputId": "0309b202-37cb-4fff-f269-e4651d394e44",
        "colab": {
          "base_uri": "https://localhost:8080/",
          "height": 52
        }
      },
      "cell_type": "code",
      "source": [
        "%%time\n",
        "cv = GridSearchCV(clf, param_grid=param_grid, scoring='accuracy', cv=4, n_jobs=-1)\n",
        "cv.fit(X_train, y_train)"
      ],
      "execution_count": 0,
      "outputs": [
        {
          "output_type": "stream",
          "text": [
            "CPU times: user 657 ms, sys: 80.3 ms, total: 737 ms\n",
            "Wall time: 57.2 s\n"
          ],
          "name": "stdout"
        }
      ]
    },
    {
      "metadata": {
        "id": "sE52ZSLsfpqp",
        "colab_type": "code",
        "outputId": "a73e6b83-e78a-4990-db7c-afa573064208",
        "colab": {
          "base_uri": "https://localhost:8080/",
          "height": 35
        }
      },
      "cell_type": "code",
      "source": [
        "cv.best_params_"
      ],
      "execution_count": 0,
      "outputs": [
        {
          "output_type": "execute_result",
          "data": {
            "text/plain": [
              "{'metric': 'euclidean', 'n_neighbors': 5, 'weights': 'distance'}"
            ]
          },
          "metadata": {
            "tags": []
          },
          "execution_count": 13
        }
      ]
    },
    {
      "metadata": {
        "id": "V3u9VfueLuX4",
        "colab_type": "code",
        "outputId": "7645b2c2-28af-42b8-cee5-1e4f3a569b59",
        "colab": {
          "base_uri": "https://localhost:8080/",
          "height": 52
        }
      },
      "cell_type": "code",
      "source": [
        "%%time\n",
        "param_grid = {\n",
        "    \"n_neighbors\": range(5, 10),\n",
        "    \"metric\": [\"euclidean\"],\n",
        "    \"weights\": [\"distance\"]\n",
        "}\n",
        "\n",
        "cv = GridSearchCV(clf, param_grid=param_grid, scoring='accuracy', cv=4, n_jobs=-1)\n",
        "cv.fit(X_train, y_train)"
      ],
      "execution_count": 0,
      "outputs": [
        {
          "output_type": "stream",
          "text": [
            "CPU times: user 76.7 ms, sys: 4.94 ms, total: 81.7 ms\n",
            "Wall time: 6.49 s\n"
          ],
          "name": "stdout"
        }
      ]
    },
    {
      "metadata": {
        "id": "8p8rE2s8MEDi",
        "colab_type": "code",
        "outputId": "a851791e-ca81-42a4-f3c1-e5d5c96f2dda",
        "colab": {
          "base_uri": "https://localhost:8080/",
          "height": 35
        }
      },
      "cell_type": "code",
      "source": [
        "cv.best_params_"
      ],
      "execution_count": 0,
      "outputs": [
        {
          "output_type": "execute_result",
          "data": {
            "text/plain": [
              "{'metric': 'euclidean', 'n_neighbors': 6, 'weights': 'distance'}"
            ]
          },
          "metadata": {
            "tags": []
          },
          "execution_count": 21
        }
      ]
    },
    {
      "metadata": {
        "id": "tXZ-iu96z94U",
        "colab_type": "code",
        "colab": {}
      },
      "cell_type": "code",
      "source": [
        "y_pred = cv.best_estimator_.predict(X_test)"
      ],
      "execution_count": 0,
      "outputs": []
    },
    {
      "metadata": {
        "id": "WB3z0XLZgDf4",
        "colab_type": "code",
        "outputId": "508cba4e-01c8-4d37-c9b4-5d959957a0b4",
        "colab": {
          "base_uri": "https://localhost:8080/",
          "height": 35
        }
      },
      "cell_type": "code",
      "source": [
        "metrics.accuracy_score(y_pred, y_test), \\\n",
        "metrics.accuracy_score(cv.best_estimator_.predict(X_train), y_train)"
      ],
      "execution_count": 0,
      "outputs": [
        {
          "output_type": "execute_result",
          "data": {
            "text/plain": [
              "(0.9348370927318296, 1.0)"
            ]
          },
          "metadata": {
            "tags": []
          },
          "execution_count": 20
        }
      ]
    },
    {
      "metadata": {
        "id": "S31KYuOPz61R",
        "colab_type": "code",
        "outputId": "24505ca9-8bed-4bcd-8e15-a1466ac258d8",
        "colab": {
          "base_uri": "https://localhost:8080/",
          "height": 319
        }
      },
      "cell_type": "code",
      "source": [
        "print(metrics.classification_report(y_test, y_pred))"
      ],
      "execution_count": 0,
      "outputs": [
        {
          "output_type": "stream",
          "text": [
            "              precision    recall  f1-score   support\n",
            "\n",
            "           0       1.00      1.00      1.00        40\n",
            "           1       0.84      1.00      0.91        41\n",
            "           2       0.91      0.97      0.94        40\n",
            "           3       0.97      0.93      0.95        40\n",
            "           4       0.93      0.95      0.94        40\n",
            "           5       0.87      0.97      0.92        40\n",
            "           6       0.98      1.00      0.99        40\n",
            "           7       0.97      0.88      0.92        40\n",
            "           8       1.00      0.82      0.90        39\n",
            "           9       0.94      0.82      0.88        39\n",
            "\n",
            "   micro avg       0.93      0.93      0.93       399\n",
            "   macro avg       0.94      0.93      0.93       399\n",
            "weighted avg       0.94      0.93      0.93       399\n",
            "\n"
          ],
          "name": "stdout"
        }
      ]
    },
    {
      "metadata": {
        "id": "v8KKY4IV9LOP",
        "colab_type": "code",
        "colab": {}
      },
      "cell_type": "code",
      "source": [
        ""
      ],
      "execution_count": 0,
      "outputs": []
    },
    {
      "metadata": {
        "id": "4so_M6uZ9LQp",
        "colab_type": "code",
        "outputId": "2d616277-c08c-4e18-87fb-c6dc97da2d76",
        "colab": {
          "base_uri": "https://localhost:8080/",
          "height": 35
        }
      },
      "cell_type": "code",
      "source": [
        "accs = []\n",
        "for _ in range(100):\n",
        "    X_train, X_test, y_train, y_test = train_test_split(features.values, target.values, test_size=.25, stratify=target.values)\n",
        "    accs.append(metrics.accuracy_score(cv.best_estimator_.fit(X_train, y_train).predict(X_test), y_test))\n",
        "np.mean(accs)"
      ],
      "execution_count": 0,
      "outputs": [
        {
          "output_type": "execute_result",
          "data": {
            "text/plain": [
              "0.915513784461153"
            ]
          },
          "metadata": {
            "tags": []
          },
          "execution_count": 23
        }
      ]
    }
  ]
}